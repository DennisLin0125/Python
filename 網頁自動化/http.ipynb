{
 "cells": [
  {
   "cell_type": "code",
   "execution_count": 4,
   "metadata": {},
   "outputs": [],
   "source": [
    "from selenium import webdriver\n",
    "from selenium.webdriver.common.by import By\n",
    "from selenium.webdriver.support.ui import WebDriverWait\n",
    "from selenium.webdriver.support import expected_conditions as EC\n",
    "from selenium.webdriver.common.keys import Keys\n",
    "from selenium.webdriver.support.ui import Select\n",
    "import time\n",
    "from openpyxl import Workbook\n",
    "from bs4 import BeautifulSoup\n",
    "\n",
    "titles=['訓練班別 (訓練單位)','課程代碼','訓練人數','訓練時數','學員負擔','政府負擔','學科/術科 訓練地點','報名日期','招生狀態','預訂訓練 起迄日期','繳費方式','網址']\n",
    "\n",
    "wb= Workbook()\n",
    "ws=wb.create_sheet('課程',0)\n",
    "\n",
    "ws.append(titles)\n",
    "\n",
    "PATH = \"./chromedriver\"\n",
    "driver = webdriver.Chrome(PATH)\n",
    "driver.get(\"https://ojt.wda.gov.tw/ClassSearch/ClassSch2\")\n",
    "\n",
    "WebDriverWait(driver, 10).until(\n",
    "    EC.presence_of_element_located((By.CLASS_NAME,\"buttons\"))\n",
    ")\n",
    "webdriver.ActionChains(driver).send_keys(Keys.ESCAPE).perform()   #按下ESC\n",
    "\n",
    "\n",
    "WebDriverWait(driver, 10).until(\n",
    "    EC.presence_of_element_located((By.ID,'PagingInfo_PageSize'))\n",
    ")\n",
    "\n",
    "#select = Select(driver.find_element_by_id('PagingInfo_PageSize'))\n",
    "select = Select(driver.find_element(By.ID,value='PagingInfo_PageSize'))\n",
    "\n",
    "select.select_by_index(0) #下拉選單選擇(全部)\n",
    "\n",
    "#get_ok=driver.find_element_by_id(\"btnGoRecCount\")\n",
    "get_ok=driver.find_element(By.ID,value=\"btnGoRecCount\")\n",
    "\n",
    "get_ok.click()\n",
    "\n",
    "time.sleep(2)\n",
    "\n",
    "pageSource = driver.page_source\n",
    "soup = BeautifulSoup(pageSource, \"html.parser\")\n",
    "\n",
    "driver.quit()\n"
   ]
  },
  {
   "cell_type": "code",
   "execution_count": 15,
   "metadata": {},
   "outputs": [
    {
     "name": "stdout",
     "output_type": "stream",
     "text": [
      "112/01/16 18:00:00\n"
     ]
    }
   ],
   "source": [
    "print(soup.find_all('tr')[6].select('td')[8].text[37:55])"
   ]
  }
 ],
 "metadata": {
  "kernelspec": {
   "display_name": "Python 3.6.4 32-bit",
   "language": "python",
   "name": "python3"
  },
  "language_info": {
   "codemirror_mode": {
    "name": "ipython",
    "version": 3
   },
   "file_extension": ".py",
   "mimetype": "text/x-python",
   "name": "python",
   "nbconvert_exporter": "python",
   "pygments_lexer": "ipython3",
   "version": "3.6.4"
  },
  "orig_nbformat": 4,
  "vscode": {
   "interpreter": {
    "hash": "aa8b82007cbfccfe74d81796bf745c54602896259c831ad628b77a8ae03172fe"
   }
  }
 },
 "nbformat": 4,
 "nbformat_minor": 2
}

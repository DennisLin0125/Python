{
 "cells": [
  {
   "cell_type": "code",
   "execution_count": 21,
   "metadata": {},
   "outputs": [
    {
     "data": {
      "text/plain": [
       "<li><a ad_id=\"310466\" href=\"https://www.1111job.com.tw/\" onclick=\"setHref(310466)\" target=\"_blank\">南部找工作</a></li>"
      ]
     },
     "execution_count": 21,
     "metadata": {},
     "output_type": "execute_result"
    }
   ],
   "source": [
    "from requests import get\n",
    "from bs4 import BeautifulSoup\n",
    "from openpyxl import Workbook\n",
    "\n",
    "wbTitle = ['連結', '職缺', '公司名稱', '工作地點', '縣市', '鄉鎮市區', '薪水', '給薪方式', '薪資下限', '薪資上限', '薪資平均']\n",
    "\n",
    "page = 1\n",
    "\n",
    "URL = f'https://www.1111.com.tw/search/job?ks=%E9%9F%8C%E9%AB%94&page={page}'\n",
    "\n",
    "res = get(URL)\n",
    "\n",
    "soup = BeautifulSoup(res.text, \"html.parser\")\n",
    "\n",
    "job_data = soup.find_all('div', class_=\"job_item_info\")\n",
    "\n",
    "\n",
    "a=soup.select('li')[2]\n",
    "\n",
    "a\n",
    "# for job in job_data:\n",
    "#     職缺 = job.h5.text\n",
    "#     公司名稱 = job.h6.text\n",
    "#     連結 = job.a['href']\n",
    "#     地點 = job.find_all('a', class_=\"job_item_detail_location mr-3 position-relative\")[0].text\n",
    "#     地點 = 地點.replace('台', '臺')\n",
    "#     薪水 = job.find_all('div', class_=\"job_item_detail_salary ml-3 font-weight-style digit_6\")[0].text\n",
    "    \n"
   ]
  },
  {
   "cell_type": "code",
   "execution_count": 13,
   "metadata": {},
   "outputs": [
    {
     "name": "stdout",
     "output_type": "stream",
     "text": [
      "[<div class=\"job_item_detail_salary ml-3 font-weight-style digit_6\">面議（經常性薪資4萬/月含以上）</div>]\n",
      "===============\n",
      "[<div class=\"job_item_detail_salary ml-3 font-weight-style digit_6\">面議（經常性薪資4萬/月含以上）</div>]\n",
      "===============\n",
      "[<div class=\"job_item_detail_salary ml-3 font-weight-style digit_6\">面議（經常性薪資4萬/月含以上）</div>]\n",
      "===============\n",
      "[<div class=\"job_item_detail_salary ml-3 font-weight-style digit_6\">月薪 3.5萬~7萬元</div>]\n",
      "===============\n",
      "[<div class=\"job_item_detail_salary ml-3 font-weight-style digit_6\">面議（經常性薪資4萬/月含以上）</div>]\n",
      "===============\n",
      "[<div class=\"job_item_detail_salary ml-3 font-weight-style digit_6\">面議（經常性薪資4萬/月含以上）</div>]\n",
      "===============\n",
      "[<div class=\"job_item_detail_salary ml-3 font-weight-style digit_6\">面議（經常性薪資4萬/月含以上）</div>]\n",
      "===============\n",
      "[<div class=\"job_item_detail_salary ml-3 font-weight-style digit_6\">月薪 33,800~4.2萬元</div>]\n",
      "===============\n",
      "[<div class=\"job_item_detail_salary ml-3 font-weight-style digit_6\">面議（經常性薪資4萬/月含以上）</div>]\n",
      "===============\n",
      "[<div class=\"job_item_detail_salary ml-3 font-weight-style digit_6\">面議（經常性薪資4萬/月含以上）</div>]\n",
      "===============\n",
      "[<div class=\"job_item_detail_salary ml-3 font-weight-style digit_6\">面議（經常性薪資4萬/月含以上）</div>]\n",
      "===============\n",
      "[<div class=\"job_item_detail_salary ml-3 font-weight-style digit_6\">月薪 3.5萬元以上</div>]\n",
      "===============\n",
      "[<div class=\"job_item_detail_salary ml-3 font-weight-style digit_6\">面議（經常性薪資4萬/月含以上）</div>]\n",
      "===============\n",
      "[<div class=\"job_item_detail_salary ml-3 font-weight-style digit_6\">月薪 3萬~6萬元</div>]\n",
      "===============\n",
      "[<div class=\"job_item_detail_salary ml-3 font-weight-style digit_6\">面議（經常性薪資4萬/月含以上）</div>]\n",
      "===============\n",
      "[<div class=\"job_item_detail_salary ml-3 font-weight-style digit_6\">面議（經常性薪資4萬/月含以上）</div>]\n",
      "===============\n",
      "[<div class=\"job_item_detail_salary ml-3 font-weight-style digit_6\">面議（經常性薪資4萬/月含以上）</div>]\n",
      "===============\n",
      "[<div class=\"job_item_detail_salary ml-3 font-weight-style digit_6\">面議（經常性薪資4萬/月含以上）</div>]\n",
      "===============\n",
      "[<div class=\"job_item_detail_salary ml-3 font-weight-style digit_6\">月薪 3.5萬~5萬元</div>]\n",
      "===============\n",
      "[<div class=\"job_item_detail_salary ml-3 font-weight-style digit_6\">月薪 2.9萬~3.8萬元</div>]\n",
      "===============\n"
     ]
    }
   ],
   "source": [
    "for job in job_data:\n",
    "    print(job.find_all('div', class_=\"job_item_detail_salary ml-3 font-weight-style digit_6\"))\n",
    "    \n",
    "    print('===============')"
   ]
  }
 ],
 "metadata": {
  "kernelspec": {
   "display_name": "Python 3",
   "language": "python",
   "name": "python3"
  },
  "language_info": {
   "codemirror_mode": {
    "name": "ipython",
    "version": 3
   },
   "file_extension": ".py",
   "mimetype": "text/x-python",
   "name": "python",
   "nbconvert_exporter": "python",
   "pygments_lexer": "ipython3",
   "version": "3.10.4"
  },
  "orig_nbformat": 4,
  "vscode": {
   "interpreter": {
    "hash": "0986a705e0e9c41aedb0cb54b09a403593fe0a5bc8bc18fb428b786d741665bc"
   }
  }
 },
 "nbformat": 4,
 "nbformat_minor": 2
}

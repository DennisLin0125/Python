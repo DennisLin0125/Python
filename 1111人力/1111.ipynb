{
 "cells": [
  {
   "cell_type": "code",
   "execution_count": 21,
   "metadata": {},
   "outputs": [
    {
     "data": {
      "text/plain": [
       "<li><a ad_id=\"310466\" href=\"https://www.1111job.com.tw/\" onclick=\"setHref(310466)\" target=\"_blank\">南部找工作</a></li>"
      ]
     },
     "execution_count": 21,
     "metadata": {},
     "output_type": "execute_result"
    }
   ],
   "source": [
    "from requests import get\n",
    "from bs4 import BeautifulSoup\n",
    "from openpyxl import Workbook\n",
    "\n",
    "wbTitle = ['連結', '職缺', '公司名稱', '工作地點', '縣市', '鄉鎮市區', '薪水', '給薪方式', '薪資下限', '薪資上限', '薪資平均']\n",
    "\n",
    "page = 1\n",
    "\n",
    "URL = f'https://www.1111.com.tw/search/job?ks=%E9%9F%8C%E9%AB%94&page={page}'\n",
    "\n",
    "res = get(URL)\n",
    "\n",
    "soup = BeautifulSoup(res.text, \"html.parser\")\n",
    "\n",
    "job_data = soup.find_all('div', class_=\"job_item_info\")\n",
    "\n",
    "\n",
    "a=soup.select('li')[2]\n",
    "\n",
    "a\n",
    "# for job in job_data:\n",
    "#     職缺 = job.h5.text\n",
    "#     公司名稱 = job.h6.text\n",
    "#     連結 = job.a['href']\n",
    "#     地點 = job.find_all('a', class_=\"job_item_detail_location mr-3 position-relative\")[0].text\n",
    "#     地點 = 地點.replace('台', '臺')\n",
    "#     薪水 = job.find_all('div', class_=\"job_item_detail_salary ml-3 font-weight-style digit_6\")[0].text\n",
    "    \n"
   ]
  },
  {
   "cell_type": "code",
   "execution_count": 13,
   "metadata": {},
   "outputs": [
    {
     "name": "stdout",
     "output_type": "stream",
     "text": [
      "[<div class=\"job_item_detail_salary ml-3 font-weight-style digit_6\">面議（經常性薪資4萬/月含以上）</div>]\n",
      "===============\n",
      "[<div class=\"job_item_detail_salary ml-3 font-weight-style digit_6\">面議（經常性薪資4萬/月含以上）</div>]\n",
      "===============\n",
      "[<div class=\"job_item_detail_salary ml-3 font-weight-style digit_6\">面議（經常性薪資4萬/月含以上）</div>]\n",
      "===============\n",
      "[<div class=\"job_item_detail_salary ml-3 font-weight-style digit_6\">月薪 3.5萬~7萬元</div>]\n",
      "===============\n",
      "[<div class=\"job_item_detail_salary ml-3 font-weight-style digit_6\">面議（經常性薪資4萬/月含以上）</div>]\n",
      "===============\n",
      "[<div class=\"job_item_detail_salary ml-3 font-weight-style digit_6\">面議（經常性薪資4萬/月含以上）</div>]\n",
      "===============\n",
      "[<div class=\"job_item_detail_salary ml-3 font-weight-style digit_6\">面議（經常性薪資4萬/月含以上）</div>]\n",
      "===============\n",
      "[<div class=\"job_item_detail_salary ml-3 font-weight-style digit_6\">月薪 33,800~4.2萬元</div>]\n",
      "===============\n",
      "[<div class=\"job_item_detail_salary ml-3 font-weight-style digit_6\">面議（經常性薪資4萬/月含以上）</div>]\n",
      "===============\n",
      "[<div class=\"job_item_detail_salary ml-3 font-weight-style digit_6\">面議（經常性薪資4萬/月含以上）</div>]\n",
      "===============\n",
      "[<div class=\"job_item_detail_salary ml-3 font-weight-style digit_6\">面議（經常性薪資4萬/月含以上）</div>]\n",
      "===============\n",
      "[<div class=\"job_item_detail_salary ml-3 font-weight-style digit_6\">月薪 3.5萬元以上</div>]\n",
      "===============\n",
      "[<div class=\"job_item_detail_salary ml-3 font-weight-style digit_6\">面議（經常性薪資4萬/月含以上）</div>]\n",
      "===============\n",
      "[<div class=\"job_item_detail_salary ml-3 font-weight-style digit_6\">月薪 3萬~6萬元</div>]\n",
      "===============\n",
      "[<div class=\"job_item_detail_salary ml-3 font-weight-style digit_6\">面議（經常性薪資4萬/月含以上）</div>]\n",
      "===============\n",
      "[<div class=\"job_item_detail_salary ml-3 font-weight-style digit_6\">面議（經常性薪資4萬/月含以上）</div>]\n",
      "===============\n",
      "[<div class=\"job_item_detail_salary ml-3 font-weight-style digit_6\">面議（經常性薪資4萬/月含以上）</div>]\n",
      "===============\n",
      "[<div class=\"job_item_detail_salary ml-3 font-weight-style digit_6\">面議（經常性薪資4萬/月含以上）</div>]\n",
      "===============\n",
      "[<div class=\"job_item_detail_salary ml-3 font-weight-style digit_6\">月薪 3.5萬~5萬元</div>]\n",
      "===============\n",
      "[<div class=\"job_item_detail_salary ml-3 font-weight-style digit_6\">月薪 2.9萬~3.8萬元</div>]\n",
      "===============\n"
     ]
    }
   ],
   "source": [
    "for job in job_data:\n",
    "    print(job.find_all('div', class_=\"job_item_detail_salary ml-3 font-weight-style digit_6\"))\n",
    "    \n",
    "    print('===============')"
   ]
  },
  {
   "cell_type": "code",
   "execution_count": 23,
   "metadata": {},
   "outputs": [
    {
     "data": {
      "text/html": [
       "<div>\n",
       "<style scoped>\n",
       "    .dataframe tbody tr th:only-of-type {\n",
       "        vertical-align: middle;\n",
       "    }\n",
       "\n",
       "    .dataframe tbody tr th {\n",
       "        vertical-align: top;\n",
       "    }\n",
       "\n",
       "    .dataframe thead th {\n",
       "        text-align: right;\n",
       "    }\n",
       "</style>\n",
       "<table border=\"1\" class=\"dataframe\">\n",
       "  <thead>\n",
       "    <tr style=\"text-align: right;\">\n",
       "      <th></th>\n",
       "      <th>攝氏</th>\n",
       "      <th>溼度</th>\n",
       "      <th>緯度</th>\n",
       "      <th>經度</th>\n",
       "    </tr>\n",
       "  </thead>\n",
       "  <tbody>\n",
       "    <tr>\n",
       "      <th>Taipei</th>\n",
       "      <td>13.57</td>\n",
       "      <td>56</td>\n",
       "      <td>25.0478</td>\n",
       "      <td>121.5319</td>\n",
       "    </tr>\n",
       "    <tr>\n",
       "      <th>Taichung</th>\n",
       "      <td>12.46</td>\n",
       "      <td>68</td>\n",
       "      <td>24.1469</td>\n",
       "      <td>120.6839</td>\n",
       "    </tr>\n",
       "    <tr>\n",
       "      <th>Pingtung City</th>\n",
       "      <td>15.71</td>\n",
       "      <td>72</td>\n",
       "      <td>22.6714</td>\n",
       "      <td>120.4881</td>\n",
       "    </tr>\n",
       "  </tbody>\n",
       "</table>\n",
       "</div>"
      ],
      "text/plain": [
       "                  攝氏  溼度       緯度        經度\n",
       "Taipei         13.57  56  25.0478  121.5319\n",
       "Taichung       12.46  68  24.1469  120.6839\n",
       "Pingtung City  15.71  72  22.6714  120.4881"
      ]
     },
     "execution_count": 23,
     "metadata": {},
     "output_type": "execute_result"
    }
   ],
   "source": [
    "import pandas as pd\n",
    "import matplotlib.pyplot as plt\n",
    "import requests\n",
    "url = 'http://api.openweathermap.org/data/2.5/group?id=1668341,1668399,1670481&units=metric&appid=29c4f184354b9889e87f7b494ac86aed'\n",
    "resp = requests.get(url)\n",
    "resp\n",
    "weatherData = resp.json()\n",
    "weatherDict = {}\n",
    "lon = []\n",
    "lat = []\n",
    "temp = []\n",
    "humidity = []\n",
    "name = []\n",
    "for item in weatherData['list']:\n",
    "    lon.append(item['coord']['lon'])\n",
    "    lat.append(item['coord']['lat'])\n",
    "    temp.append(item['main']['temp'])\n",
    "    humidity.append(item['main']['humidity'])\n",
    "    name.append(item['name'])\n",
    "\n",
    "weatherDict['城市'] = name\n",
    "weatherDict['緯度'] = lat\n",
    "weatherDict['經度'] = lon\n",
    "weatherDict['攝氏'] = temp\n",
    "weatherDict['溼度'] = humidity\n",
    "weatherDict\n",
    "weatherDataFrame = pd.DataFrame(weatherDict,columns=['攝氏', '溼度','緯度', '經度'],index=weatherDict['城市'])\n",
    "weatherDataFrame"
   ]
  },
  {
   "cell_type": "code",
   "execution_count": 26,
   "metadata": {},
   "outputs": [
    {
     "name": "stdout",
     "output_type": "stream",
     "text": [
      "{'coord': {'lon': 121.5319, 'lat': 25.0478}, 'sys': {'country': 'TW', 'timezone': 28800, 'sunrise': 1671921374, 'sunset': 1671959460}, 'weather': [{'id': 803, 'main': 'Clouds', 'description': 'broken clouds', 'icon': '04n'}], 'main': {'temp': 13.57, 'feels_like': 12.44, 'temp_min': 11.93, 'temp_max': 16.12, 'pressure': 1024, 'humidity': 56}, 'visibility': 10000, 'wind': {'speed': 2.68, 'deg': 130}, 'clouds': {'all': 75}, 'dt': 1671977351, 'id': 1668341, 'name': 'Taipei'}\n",
      "----------------------\n",
      "{'coord': {'lon': 120.6839, 'lat': 24.1469}, 'sys': {'country': 'TW', 'timezone': 28800, 'sunrise': 1671921464, 'sunset': 1671959777}, 'weather': [{'id': 801, 'main': 'Clouds', 'description': 'few clouds', 'icon': '02n'}], 'main': {'temp': 12.46, 'feels_like': 11.54, 'temp_min': 10.7, 'temp_max': 13.6, 'pressure': 1007, 'humidity': 68}, 'visibility': 10000, 'wind': {'speed': 5.14, 'deg': 20}, 'clouds': {'all': 20}, 'dt': 1671977351, 'id': 1668399, 'name': 'Taichung'}\n",
      "----------------------\n",
      "{'coord': {'lon': 120.4881, 'lat': 22.6714}, 'sys': {'country': 'TW', 'timezone': 28800, 'sunrise': 1671921329, 'sunset': 1671960007}, 'weather': [{'id': 803, 'main': 'Clouds', 'description': 'broken clouds', 'icon': '04n'}], 'main': {'temp': 15.71, 'feels_like': 15.22, 'temp_min': 10.92, 'temp_max': 16.57, 'pressure': 1021, 'humidity': 72}, 'visibility': 10000, 'wind': {'speed': 2.06, 'deg': 70}, 'clouds': {'all': 75}, 'dt': 1671977409, 'id': 1670481, 'name': 'Pingtung City'}\n",
      "----------------------\n"
     ]
    }
   ],
   "source": [
    "#weatherData\n",
    "for item in weatherData['list']:\n",
    "    print(item)\n",
    "    print('----------------------')"
   ]
  }
 ],
 "metadata": {
  "kernelspec": {
   "display_name": "Python 3",
   "language": "python",
   "name": "python3"
  },
  "language_info": {
   "codemirror_mode": {
    "name": "ipython",
    "version": 3
   },
   "file_extension": ".py",
   "mimetype": "text/x-python",
   "name": "python",
   "nbconvert_exporter": "python",
   "pygments_lexer": "ipython3",
   "version": "3.10.4"
  },
  "orig_nbformat": 4,
  "vscode": {
   "interpreter": {
    "hash": "0986a705e0e9c41aedb0cb54b09a403593fe0a5bc8bc18fb428b786d741665bc"
   }
  }
 },
 "nbformat": 4,
 "nbformat_minor": 2
}

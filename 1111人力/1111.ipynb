{
 "cells": [
  {
   "cell_type": "code",
   "execution_count": 21,
   "metadata": {},
   "outputs": [
    {
     "data": {
      "text/plain": [
       "<li><a ad_id=\"310466\" href=\"https://www.1111job.com.tw/\" onclick=\"setHref(310466)\" target=\"_blank\">南部找工作</a></li>"
      ]
     },
     "execution_count": 21,
     "metadata": {},
     "output_type": "execute_result"
    }
   ],
   "source": [
    "from requests import get\n",
    "from bs4 import BeautifulSoup\n",
    "from openpyxl import Workbook\n",
    "\n",
    "wbTitle = ['連結', '職缺', '公司名稱', '工作地點', '縣市', '鄉鎮市區', '薪水', '給薪方式', '薪資下限', '薪資上限', '薪資平均']\n",
    "\n",
    "page = 1\n",
    "\n",
    "URL = f'https://www.1111.com.tw/search/job?ks=%E9%9F%8C%E9%AB%94&page={page}'\n",
    "\n",
    "res = get(URL)\n",
    "\n",
    "soup = BeautifulSoup(res.text, \"html.parser\")\n",
    "\n",
    "job_data = soup.find_all('div', class_=\"job_item_info\")\n",
    "\n",
    "\n",
    "a=soup.select('li')[2]\n",
    "\n",
    "a\n",
    "# for job in job_data:\n",
    "#     職缺 = job.h5.text\n",
    "#     公司名稱 = job.h6.text\n",
    "#     連結 = job.a['href']\n",
    "#     地點 = job.find_all('a', class_=\"job_item_detail_location mr-3 position-relative\")[0].text\n",
    "#     地點 = 地點.replace('台', '臺')\n",
    "#     薪水 = job.find_all('div', class_=\"job_item_detail_salary ml-3 font-weight-style digit_6\")[0].text\n",
    "    \n"
   ]
  },
  {
   "cell_type": "code",
   "execution_count": 13,
   "metadata": {},
   "outputs": [
    {
     "name": "stdout",
     "output_type": "stream",
     "text": [
      "[<div class=\"job_item_detail_salary ml-3 font-weight-style digit_6\">面議（經常性薪資4萬/月含以上）</div>]\n",
      "===============\n",
      "[<div class=\"job_item_detail_salary ml-3 font-weight-style digit_6\">面議（經常性薪資4萬/月含以上）</div>]\n",
      "===============\n",
      "[<div class=\"job_item_detail_salary ml-3 font-weight-style digit_6\">面議（經常性薪資4萬/月含以上）</div>]\n",
      "===============\n",
      "[<div class=\"job_item_detail_salary ml-3 font-weight-style digit_6\">月薪 3.5萬~7萬元</div>]\n",
      "===============\n",
      "[<div class=\"job_item_detail_salary ml-3 font-weight-style digit_6\">面議（經常性薪資4萬/月含以上）</div>]\n",
      "===============\n",
      "[<div class=\"job_item_detail_salary ml-3 font-weight-style digit_6\">面議（經常性薪資4萬/月含以上）</div>]\n",
      "===============\n",
      "[<div class=\"job_item_detail_salary ml-3 font-weight-style digit_6\">面議（經常性薪資4萬/月含以上）</div>]\n",
      "===============\n",
      "[<div class=\"job_item_detail_salary ml-3 font-weight-style digit_6\">月薪 33,800~4.2萬元</div>]\n",
      "===============\n",
      "[<div class=\"job_item_detail_salary ml-3 font-weight-style digit_6\">面議（經常性薪資4萬/月含以上）</div>]\n",
      "===============\n",
      "[<div class=\"job_item_detail_salary ml-3 font-weight-style digit_6\">面議（經常性薪資4萬/月含以上）</div>]\n",
      "===============\n",
      "[<div class=\"job_item_detail_salary ml-3 font-weight-style digit_6\">面議（經常性薪資4萬/月含以上）</div>]\n",
      "===============\n",
      "[<div class=\"job_item_detail_salary ml-3 font-weight-style digit_6\">月薪 3.5萬元以上</div>]\n",
      "===============\n",
      "[<div class=\"job_item_detail_salary ml-3 font-weight-style digit_6\">面議（經常性薪資4萬/月含以上）</div>]\n",
      "===============\n",
      "[<div class=\"job_item_detail_salary ml-3 font-weight-style digit_6\">月薪 3萬~6萬元</div>]\n",
      "===============\n",
      "[<div class=\"job_item_detail_salary ml-3 font-weight-style digit_6\">面議（經常性薪資4萬/月含以上）</div>]\n",
      "===============\n",
      "[<div class=\"job_item_detail_salary ml-3 font-weight-style digit_6\">面議（經常性薪資4萬/月含以上）</div>]\n",
      "===============\n",
      "[<div class=\"job_item_detail_salary ml-3 font-weight-style digit_6\">面議（經常性薪資4萬/月含以上）</div>]\n",
      "===============\n",
      "[<div class=\"job_item_detail_salary ml-3 font-weight-style digit_6\">面議（經常性薪資4萬/月含以上）</div>]\n",
      "===============\n",
      "[<div class=\"job_item_detail_salary ml-3 font-weight-style digit_6\">月薪 3.5萬~5萬元</div>]\n",
      "===============\n",
      "[<div class=\"job_item_detail_salary ml-3 font-weight-style digit_6\">月薪 2.9萬~3.8萬元</div>]\n",
      "===============\n"
     ]
    }
   ],
   "source": [
    "for job in job_data:\n",
    "    print(job.find_all('div', class_=\"job_item_detail_salary ml-3 font-weight-style digit_6\"))\n",
    "    \n",
    "    print('===============')"
   ]
  },
  {
   "cell_type": "code",
   "execution_count": 16,
   "metadata": {},
   "outputs": [
    {
     "data": {
      "text/html": [
       "<div>\n",
       "<style scoped>\n",
       "    .dataframe tbody tr th:only-of-type {\n",
       "        vertical-align: middle;\n",
       "    }\n",
       "\n",
       "    .dataframe tbody tr th {\n",
       "        vertical-align: top;\n",
       "    }\n",
       "\n",
       "    .dataframe thead th {\n",
       "        text-align: right;\n",
       "    }\n",
       "</style>\n",
       "<table border=\"1\" class=\"dataframe\">\n",
       "  <thead>\n",
       "    <tr style=\"text-align: right;\">\n",
       "      <th></th>\n",
       "      <th>攝氏</th>\n",
       "      <th>溼度</th>\n",
       "      <th>最低溫</th>\n",
       "      <th>最高溫</th>\n",
       "      <th>體感溫度</th>\n",
       "      <th>經度</th>\n",
       "      <th>緯度</th>\n",
       "    </tr>\n",
       "  </thead>\n",
       "  <tbody>\n",
       "    <tr>\n",
       "      <th>Taipei</th>\n",
       "      <td>17.27</td>\n",
       "      <td>63</td>\n",
       "      <td>16.70</td>\n",
       "      <td>18.38</td>\n",
       "      <td>16.70</td>\n",
       "      <td>121.5319</td>\n",
       "      <td>25.0478</td>\n",
       "    </tr>\n",
       "    <tr>\n",
       "      <th>Taichung</th>\n",
       "      <td>21.01</td>\n",
       "      <td>44</td>\n",
       "      <td>18.91</td>\n",
       "      <td>23.05</td>\n",
       "      <td>20.32</td>\n",
       "      <td>120.6839</td>\n",
       "      <td>24.1469</td>\n",
       "    </tr>\n",
       "    <tr>\n",
       "      <th>Pingtung City</th>\n",
       "      <td>22.48</td>\n",
       "      <td>45</td>\n",
       "      <td>22.12</td>\n",
       "      <td>22.92</td>\n",
       "      <td>21.96</td>\n",
       "      <td>120.4881</td>\n",
       "      <td>22.6714</td>\n",
       "    </tr>\n",
       "  </tbody>\n",
       "</table>\n",
       "</div>"
      ],
      "text/plain": [
       "                  攝氏  溼度    最低溫    最高溫   體感溫度        經度       緯度\n",
       "Taipei         17.27  63  16.70  18.38  16.70  121.5319  25.0478\n",
       "Taichung       21.01  44  18.91  23.05  20.32  120.6839  24.1469\n",
       "Pingtung City  22.48  45  22.12  22.92  21.96  120.4881  22.6714"
      ]
     },
     "execution_count": 16,
     "metadata": {},
     "output_type": "execute_result"
    }
   ],
   "source": [
    "import pandas as pd\n",
    "import matplotlib.pyplot as plt\n",
    "import requests\n",
    "url = 'http://api.openweathermap.org/data/2.5/group?id=1668341,1668399,1670481&units=metric&appid=29c4f184354b9889e87f7b494ac86aed'\n",
    "resp = requests.get(url)\n",
    "resp\n",
    "weatherData = resp.json()\n",
    "weatherDict = {}\n",
    "經度 = []\n",
    "緯度 = []\n",
    "攝氏 = []\n",
    "溼度 = []\n",
    "城市 = []\n",
    "最高溫 = []\n",
    "最低溫 = []\n",
    "體感溫度 = []\n",
    "for item in weatherData['list']:\n",
    "    經度.append(item['coord']['lon'])\n",
    "    緯度.append(item['coord']['lat'])\n",
    "    攝氏.append(item['main']['temp'])\n",
    "    溼度.append(item['main']['humidity'])\n",
    "    城市.append(item['name'])\n",
    "    最高溫.append(item['main']['temp_max'])\n",
    "    最低溫.append(item['main']['temp_min'])\n",
    "    體感溫度.append(item['main']['feels_like'])\n",
    "\n",
    "weatherDict['城市'] = 城市\n",
    "weatherDict['緯度'] = 緯度\n",
    "weatherDict['經度'] = 經度\n",
    "weatherDict['攝氏'] = 攝氏\n",
    "weatherDict['溼度'] = 溼度\n",
    "weatherDict['最高溫'] = 最高溫\n",
    "weatherDict['最低溫'] = 最低溫\n",
    "weatherDict['體感溫度'] = 體感溫度\n",
    "weatherDict\n",
    "weatherDataFrame = pd.DataFrame(weatherDict,columns=['攝氏', '溼度', '最低溫', '最高溫','體感溫度','經度','緯度'],index=weatherDict['城市'])\n",
    "weatherDataFrame"
   ]
  },
  {
   "cell_type": "code",
   "execution_count": 11,
   "metadata": {},
   "outputs": [
    {
     "name": "stdout",
     "output_type": "stream",
     "text": [
      "{'coord': {'lon': 121.5319, 'lat': 25.0478}, 'sys': {'country': 'TW', 'timezone': 28800, 'sunrise': 1672094223, 'sunset': 1672132326}, 'weather': [{'id': 803, 'main': 'Clouds', 'description': 'broken clouds', 'icon': '04d'}], 'main': {'temp': 17.27, 'feels_like': 16.7, 'temp_min': 16.7, 'temp_max': 18.38, 'pressure': 1025, 'humidity': 63}, 'visibility': 10000, 'wind': {'speed': 5.14, 'deg': 90}, 'clouds': {'all': 75}, 'dt': 1672114152, 'id': 1668341, 'name': 'Taipei'}\n",
      "----------------------\n",
      "{'coord': {'lon': 120.6839, 'lat': 24.1469}, 'sys': {'country': 'TW', 'timezone': 28800, 'sunrise': 1672094314, 'sunset': 1672132643}, 'weather': [{'id': 801, 'main': 'Clouds', 'description': 'few clouds', 'icon': '02d'}], 'main': {'temp': 21.01, 'feels_like': 20.32, 'temp_min': 18.91, 'temp_max': 23.05, 'pressure': 1006, 'humidity': 44}, 'visibility': 10000, 'wind': {'speed': 5.66, 'deg': 10}, 'clouds': {'all': 20}, 'dt': 1672114152, 'id': 1668399, 'name': 'Taichung'}\n",
      "----------------------\n",
      "{'coord': {'lon': 120.4881, 'lat': 22.6714}, 'sys': {'country': 'TW', 'timezone': 28800, 'sunrise': 1672094179, 'sunset': 1672132871}, 'weather': [{'id': 802, 'main': 'Clouds', 'description': 'scattered clouds', 'icon': '03d'}], 'main': {'temp': 22.48, 'feels_like': 21.96, 'temp_min': 22.12, 'temp_max': 22.92, 'pressure': 1021, 'humidity': 45}, 'visibility': 10000, 'wind': {'speed': 3.6, 'deg': 270}, 'clouds': {'all': 40}, 'dt': 1672114191, 'id': 1670481, 'name': 'Pingtung City'}\n",
      "----------------------\n"
     ]
    }
   ],
   "source": [
    "#weatherData\n",
    "for item in weatherData['list']:\n",
    "    print(item)\n",
    "    print('----------------------')"
   ]
  }
 ],
 "metadata": {
  "kernelspec": {
   "display_name": "Python 3",
   "language": "python",
   "name": "python3"
  },
  "language_info": {
   "codemirror_mode": {
    "name": "ipython",
    "version": 3
   },
   "file_extension": ".py",
   "mimetype": "text/x-python",
   "name": "python",
   "nbconvert_exporter": "python",
   "pygments_lexer": "ipython3",
   "version": "3.10.4"
  },
  "orig_nbformat": 4,
  "vscode": {
   "interpreter": {
    "hash": "0986a705e0e9c41aedb0cb54b09a403593fe0a5bc8bc18fb428b786d741665bc"
   }
  }
 },
 "nbformat": 4,
 "nbformat_minor": 2
}
